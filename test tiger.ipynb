{
 "cells": [
  {
   "cell_type": "code",
   "execution_count": 1,
   "id": "482b997a-cce5-4afd-97c9-b11c494ac322",
   "metadata": {},
   "outputs": [],
   "source": [
    "import cv2\n",
    "import numpy as np\n",
    "from tensorflow.keras.models import load_model\n",
    "from tensorflow.keras.preprocessing.image import img_to_array\n",
    "from tensorflow.keras.applications.mobilenet_v2 import preprocess_input"
   ]
  },
  {
   "cell_type": "code",
   "execution_count": 2,
   "id": "8cb07450-5021-4456-8ef6-9c7f834ceefa",
   "metadata": {},
   "outputs": [],
   "source": [
    "\n",
    "# Load the trained model\n",
    "model = load_model(\"tiger_detection_model.h5\")\n",
    "\n",
    "# Define the class labels\n",
    "CATEGORIES = [\"tiger\",\"non_tiger\" ]  # Adjust based on your classes\n"
   ]
  },
  {
   "cell_type": "code",
   "execution_count": 3,
   "id": "b4c5f968-a537-41fb-8a58-b14f803059b8",
   "metadata": {},
   "outputs": [],
   "source": [
    "\n",
    "\n",
    "# Function to preprocess frames\n",
    "def prepare_frame(frame):\n",
    "    frame = cv2.resize(frame, (224, 224))  # Resize frame to 224x224\n",
    "    frame = img_to_array(frame)  # Convert frame to a numpy array\n",
    "    frame = preprocess_input(frame)  # Preprocess frame\n",
    "    frame = np.expand_dims(frame, axis=0)  # Add batch dimension\n",
    "    return frame\n",
    "\n",
    "# Video capture\n",
    "video_path = \"D:\\Deep Learning\\Object detection\\video.mp4\"  # Replace with your video file path\n",
    "cap = cv2.VideoCapture(video_path)\n",
    "\n",
    "while cap.isOpened():\n",
    "    ret, frame = cap.read()\n",
    "    if not ret:\n",
    "        break  # Exit loop if no frame is captured\n",
    "\n",
    "    # Prepare the frame for prediction\n",
    "    prepared_frame = prepared_frame(frame)\n",
    "    prepared_frame\n",
    "\n",
    "\n",
    "\n",
    "   "
   ]
  },
  {
   "cell_type": "code",
   "execution_count": 4,
   "id": "ee85c089-de0c-4578-9ab5-3de8a4d40a04",
   "metadata": {
    "scrolled": true
   },
   "outputs": [
    {
     "ename": "NameError",
     "evalue": "name 'prepared_frame' is not defined",
     "output_type": "error",
     "traceback": [
      "\u001b[1;31m---------------------------------------------------------------------------\u001b[0m",
      "\u001b[1;31mNameError\u001b[0m                                 Traceback (most recent call last)",
      "Cell \u001b[1;32mIn[4], line 2\u001b[0m\n\u001b[0;32m      1\u001b[0m \u001b[38;5;66;03m# Make a prediction\u001b[39;00m\n\u001b[1;32m----> 2\u001b[0m prediction \u001b[38;5;241m=\u001b[39m model\u001b[38;5;241m.\u001b[39mpredict(\u001b[43mprepared_frame\u001b[49m)\n\u001b[0;32m      3\u001b[0m predicted_label \u001b[38;5;241m=\u001b[39m np\u001b[38;5;241m.\u001b[39margmax(prediction, axis\u001b[38;5;241m=\u001b[39m\u001b[38;5;241m1\u001b[39m)[\u001b[38;5;241m0\u001b[39m]\n\u001b[0;32m      5\u001b[0m    \u001b[38;5;66;03m# Display the label on the frame\u001b[39;00m\n",
      "\u001b[1;31mNameError\u001b[0m: name 'prepared_frame' is not defined"
     ]
    }
   ],
   "source": [
    " # Make a prediction\n",
    "prediction = model.predict(prepared_frame)\n",
    "predicted_label = np.argmax(prediction, axis=1)[0]\n",
    "\n",
    "    # Display the label on the frame\n",
    "label = CATEGORIES[predicted_label]\n",
    "cv2.putText(frame, label, (10, 30), cv2.FONT_HERSHEY_SIMPLEX, 1, (255, 0, 0), 2)\n",
    "\n",
    "    # Show the frame\n",
    "cv2.imshow(\"Tiger Detection\", frame)\n",
    "\n",
    "    # Press 'q' to exit the video playback early\n",
    "if cv2.waitKey(1) & 0xFF == ord('q'):\n",
    "    break\n",
    "\n",
    "# Release the video capture object and close all OpenCV windows\n",
    "cap.release()\n",
    "cv2.destroyAllWindows()"
   ]
  }
 ],
 "metadata": {
  "kernelspec": {
   "display_name": "Python 3 (ipykernel)",
   "language": "python",
   "name": "python3"
  },
  "language_info": {
   "codemirror_mode": {
    "name": "ipython",
    "version": 3
   },
   "file_extension": ".py",
   "mimetype": "text/x-python",
   "name": "python",
   "nbconvert_exporter": "python",
   "pygments_lexer": "ipython3",
   "version": "3.10.14"
  }
 },
 "nbformat": 4,
 "nbformat_minor": 5
}
