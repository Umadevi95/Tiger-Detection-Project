{
 "cells": [
  {
   "cell_type": "code",
   "execution_count": 3,
   "id": "40a59a67",
   "metadata": {},
   "outputs": [],
   "source": [
    "import numpy as np  # For numerical operations\n",
    "import pandas as pd  # For handling dataset metadata (like CSV files)\n",
    "import os  # For file and directory operations\n",
    "import matplotlib.pyplot as plt  # For data visualization\n"
   ]
  },
  {
   "cell_type": "code",
   "execution_count": 2,
   "id": "b37161e6",
   "metadata": {},
   "outputs": [
    {
     "name": "stdout",
     "output_type": "stream",
     "text": [
      "Collecting pandas\n",
      "  Downloading pandas-2.2.3-cp310-cp310-win_amd64.whl.metadata (19 kB)\n",
      "Requirement already satisfied: numpy>=1.22.4 in c:\\anaconda\\envs\\myenv\\lib\\site-packages (from pandas) (1.23.0)\n",
      "Collecting python-dateutil>=2.8.2 (from pandas)\n",
      "  Using cached python_dateutil-2.9.0.post0-py2.py3-none-any.whl.metadata (8.4 kB)\n",
      "Requirement already satisfied: pytz>=2020.1 in c:\\anaconda\\envs\\myenv\\lib\\site-packages (from pandas) (2024.1)\n",
      "Collecting tzdata>=2022.7 (from pandas)\n",
      "  Downloading tzdata-2024.2-py2.py3-none-any.whl.metadata (1.4 kB)\n",
      "Requirement already satisfied: six>=1.5 in c:\\anaconda\\envs\\myenv\\lib\\site-packages (from python-dateutil>=2.8.2->pandas) (1.16.0)\n",
      "Downloading pandas-2.2.3-cp310-cp310-win_amd64.whl (11.6 MB)\n",
      "   ---------------------------------------- 0.0/11.6 MB ? eta -:--:--\n",
      "   ---------------------------------------- 0.0/11.6 MB ? eta -:--:--\n",
      "    --------------------------------------- 0.3/11.6 MB ? eta -:--:--\n",
      "   -- ------------------------------------- 0.8/11.6 MB 1.5 MB/s eta 0:00:08\n",
      "   --- ------------------------------------ 1.0/11.6 MB 1.5 MB/s eta 0:00:07\n",
      "   ---- ----------------------------------- 1.3/11.6 MB 1.6 MB/s eta 0:00:07\n",
      "   ------ --------------------------------- 1.8/11.6 MB 1.7 MB/s eta 0:00:06\n",
      "   -------- ------------------------------- 2.4/11.6 MB 1.8 MB/s eta 0:00:06\n",
      "   ---------- ----------------------------- 3.1/11.6 MB 2.1 MB/s eta 0:00:05\n",
      "   ------------- -------------------------- 3.9/11.6 MB 2.3 MB/s eta 0:00:04\n",
      "   ---------------- ----------------------- 4.7/11.6 MB 2.4 MB/s eta 0:00:03\n",
      "   ------------------ --------------------- 5.2/11.6 MB 2.5 MB/s eta 0:00:03\n",
      "   ------------------- -------------------- 5.8/11.6 MB 2.6 MB/s eta 0:00:03\n",
      "   ---------------------- ----------------- 6.6/11.6 MB 2.6 MB/s eta 0:00:02\n",
      "   ------------------------ --------------- 7.1/11.6 MB 2.7 MB/s eta 0:00:02\n",
      "   --------------------------- ------------ 7.9/11.6 MB 2.7 MB/s eta 0:00:02\n",
      "   ----------------------------- ---------- 8.7/11.6 MB 2.8 MB/s eta 0:00:02\n",
      "   -------------------------------- ------- 9.4/11.6 MB 2.9 MB/s eta 0:00:01\n",
      "   ----------------------------------- ---- 10.2/11.6 MB 2.9 MB/s eta 0:00:01\n",
      "   ------------------------------------- -- 11.0/11.6 MB 3.0 MB/s eta 0:00:01\n",
      "   ---------------------------------------- 11.6/11.6 MB 2.9 MB/s eta 0:00:00\n",
      "Using cached python_dateutil-2.9.0.post0-py2.py3-none-any.whl (229 kB)\n",
      "Downloading tzdata-2024.2-py2.py3-none-any.whl (346 kB)\n",
      "Installing collected packages: tzdata, python-dateutil, pandas\n",
      "  Attempting uninstall: python-dateutil\n",
      "    Found existing installation: python-dateutil 2.7.0\n",
      "    Uninstalling python-dateutil-2.7.0:\n",
      "      Successfully uninstalled python-dateutil-2.7.0\n",
      "Successfully installed pandas-2.2.3 python-dateutil-2.9.0.post0 tzdata-2024.2\n",
      "Note: you may need to restart the kernel to use updated packages.\n"
     ]
    }
   ],
   "source": [
    "pip install pandas"
   ]
  },
  {
   "cell_type": "code",
   "execution_count": 7,
   "id": "993be9e3-f973-48ae-8ccf-dc1005bd8fdd",
   "metadata": {},
   "outputs": [],
   "source": [
    "from tensorflow.keras.utils import to_categorical\n"
   ]
  },
  {
   "cell_type": "code",
   "execution_count": 8,
   "id": "ff413f1b-ac27-43cc-8fd9-4effa3995af6",
   "metadata": {},
   "outputs": [],
   "source": [
    "# import the necessary packages\n",
    "from tensorflow.keras.preprocessing.image import ImageDataGenerator\n",
    "from tensorflow.keras.applications import MobileNetV2\n",
    "from tensorflow.keras.layers import AveragePooling2D, Dropout, Flatten, Dense, Input\n",
    "from tensorflow.keras.models import Model\n",
    "from tensorflow.keras.optimizers import Adam\n",
    "from tensorflow.keras.applications.mobilenet_v2 import preprocess_input\n",
    "from tensorflow.keras.preprocessing.image import img_to_array, load_img\n",
    "from sklearn.preprocessing import LabelBinarizer\n",
    "from sklearn.model_selection import train_test_split\n",
    "from sklearn.metrics import classification_report\n",
    "from imutils import paths\n",
    "import matplotlib.pyplot as plt\n",
    "import numpy as np\n",
    "import os\n",
    "\n",
    "# Initialize variables\n",
    "INIT_LR = 1e-4  # Initial learning rate\n",
    "EPOCHS = 20  # Number of epochs to train\n",
    "BS = 32  # Batch size\n",
    "\n",
    "# Path to the dataset (tiger images and non-tiger images)\n",
    "DIRECTORY = r\"D:\\Deep Learning\\Object detection\\dataset\"\n",
    "CATEGORIES = [\"tiger\", \"non_tiger\"]\n",
    "\n",
    "# Initialize the data and labels\n",
    "data = []\n",
    "labels = []\n",
    "\n"
   ]
  },
  {
   "cell_type": "code",
   "execution_count": null,
   "id": "733e24ec-b141-488d-8f5c-6116804473b8",
   "metadata": {},
   "outputs": [
    {
     "name": "stdout",
     "output_type": "stream",
     "text": [
      "WARNING:tensorflow:`input_shape` is undefined or non-square, or `rows` is not in [96, 128, 160, 192, 224]. Weights for input shape (224, 224) will be loaded as the default.\n",
      "Epoch 1/20\n",
      "41/41 [==============================] - 31s 703ms/step - loss: 0.1150 - accuracy: 0.9784 - val_loss: 0.0611 - val_accuracy: 0.9940\n",
      "Epoch 2/20\n",
      "41/41 [==============================] - 28s 671ms/step - loss: 0.0353 - accuracy: 0.9954 - val_loss: 0.0590 - val_accuracy: 0.9940\n",
      "Epoch 3/20\n",
      "41/41 [==============================] - 28s 670ms/step - loss: 0.0312 - accuracy: 0.9961 - val_loss: 0.0541 - val_accuracy: 0.9940\n",
      "Epoch 4/20\n",
      "41/41 [==============================] - 27s 659ms/step - loss: 0.0322 - accuracy: 0.9954 - val_loss: 0.0507 - val_accuracy: 0.9940\n",
      "Epoch 5/20\n",
      "41/41 [==============================] - 29s 699ms/step - loss: 0.0326 - accuracy: 0.9954 - val_loss: 0.0463 - val_accuracy: 0.9940\n",
      "Epoch 6/20\n",
      "41/41 [==============================] - 28s 686ms/step - loss: 0.0254 - accuracy: 0.9954 - val_loss: 0.0404 - val_accuracy: 0.9940\n",
      "Epoch 7/20\n",
      "41/41 [==============================] - 28s 690ms/step - loss: 0.0213 - accuracy: 0.9961 - val_loss: 0.0386 - val_accuracy: 0.9940\n",
      "Epoch 8/20\n",
      "41/41 [==============================] - 29s 708ms/step - loss: 0.0212 - accuracy: 0.9954 - val_loss: 0.0367 - val_accuracy: 0.9940\n",
      "Epoch 9/20\n",
      "41/41 [==============================] - 28s 682ms/step - loss: 0.0193 - accuracy: 0.9961 - val_loss: 0.0351 - val_accuracy: 0.9940\n",
      "Epoch 10/20\n",
      "41/41 [==============================] - 29s 704ms/step - loss: 0.0145 - accuracy: 0.9961 - val_loss: 0.0319 - val_accuracy: 0.9940\n",
      "Epoch 11/20\n",
      "41/41 [==============================] - 29s 702ms/step - loss: 0.0143 - accuracy: 0.9961 - val_loss: 0.0292 - val_accuracy: 0.9940\n",
      "Epoch 12/20\n",
      "41/41 [==============================] - 28s 692ms/step - loss: 0.0152 - accuracy: 0.9954 - val_loss: 0.0267 - val_accuracy: 0.9940\n",
      "Epoch 13/20\n",
      "41/41 [==============================] - 28s 679ms/step - loss: 0.0134 - accuracy: 0.9961 - val_loss: 0.0237 - val_accuracy: 0.9940\n",
      "Epoch 14/20\n",
      "41/41 [==============================] - 28s 676ms/step - loss: 0.0111 - accuracy: 0.9961 - val_loss: 0.0203 - val_accuracy: 0.9940\n",
      "Epoch 15/20\n",
      "41/41 [==============================] - 27s 646ms/step - loss: 0.0105 - accuracy: 0.9961 - val_loss: 0.0186 - val_accuracy: 0.9940\n",
      "Epoch 16/20\n",
      "41/41 [==============================] - 28s 676ms/step - loss: 0.0076 - accuracy: 0.9969 - val_loss: 0.0159 - val_accuracy: 0.9940\n",
      "Epoch 17/20\n",
      "41/41 [==============================] - 26s 645ms/step - loss: 0.0051 - accuracy: 0.9985 - val_loss: 0.0163 - val_accuracy: 0.9940\n",
      "Epoch 18/20\n",
      "41/41 [==============================] - 27s 648ms/step - loss: 0.0065 - accuracy: 0.9969 - val_loss: 0.0132 - val_accuracy: 0.9940\n",
      "Epoch 19/20\n",
      "41/41 [==============================] - 26s 640ms/step - loss: 0.0073 - accuracy: 0.9985 - val_loss: 0.0105 - val_accuracy: 0.9940\n",
      "Epoch 20/20\n",
      "24/41 [================>.............] - ETA: 9s - loss: 0.0044 - accuracy: 0.9987"
     ]
    }
   ],
   "source": [
    "# Loop over the image paths and process them\n",
    "for category in CATEGORIES:\n",
    "    categoryPath = os.path.join(DIRECTORY, category)\n",
    "    for imagePath in list(paths.list_images(categoryPath)):\n",
    "        # Load the image, convert it to an array, and preprocess it\n",
    "        image = load_img(imagePath, target_size=(224, 224))\n",
    "        image = img_to_array(image)\n",
    "        image = preprocess_input(image)\n",
    "\n",
    "        # Append the image and label\n",
    "        data.append(image)\n",
    "        labels.append(category)\n",
    "\n",
    "# Convert data and labels to numpy arrays\n",
    "data = np.array(data, dtype=\"float32\")\n",
    "labels = np.array(labels)\n",
    "\n",
    "# Perform one-hot encoding on the labels\n",
    "lb = LabelBinarizer()\n",
    "labels = lb.fit_transform(labels)\n",
    "labels = to_categorical(labels)\n",
    "\n",
    "# Split the data into training and testing sets\n",
    "(trainX, testX, trainY, testY) = train_test_split(data, labels, test_size=0.2, stratify=labels, random_state=42)\n",
    "\n",
    "# Initialize the image data generator for data augmentation\n",
    "aug = ImageDataGenerator(\n",
    "    rotation_range=20,\n",
    "    zoom_range=0.15,\n",
    "    width_shift_range=0.2,\n",
    "    height_shift_range=0.2,\n",
    "    shear_range=0.15,\n",
    "    horizontal_flip=True,\n",
    "    fill_mode=\"nearest\")\n",
    "\n",
    "# Load the MobileNetV2 network, ensuring the head FC layer sets are left off\n",
    "baseModel = MobileNetV2(weights=\"imagenet\", include_top=False, input_tensor=Input(shape=(224, 224, 3)))\n",
    "\n",
    "# Construct the head of the model that will be placed on top of the base model\n",
    "headModel = baseModel.output\n",
    "headModel = AveragePooling2D(pool_size=(7, 7))(headModel)\n",
    "headModel = Flatten()(headModel)\n",
    "headModel = Dense(128, activation=\"relu\")(headModel)\n",
    "headModel = Dropout(0.5)(headModel)\n",
    "headModel = Dense(2, activation=\"softmax\")(headModel)  # 2 classes: tiger, non-tiger\n",
    "\n",
    "# Place the head FC model on top of the base model\n",
    "model = Model(inputs=baseModel.input, outputs=headModel)\n",
    "\n",
    "# Freeze the layers of MobileNetV2 to prevent them from being updated during the first training phase\n",
    "for layer in baseModel.layers:\n",
    "    layer.trainable = False\n",
    "\n",
    "# Compile the model\n",
    "opt = Adam(learning_rate=INIT_LR, decay=INIT_LR / EPOCHS)\n",
    "model.compile(loss=\"binary_crossentropy\", optimizer=opt, metrics=[\"accuracy\"])\n",
    "\n",
    "# Train the model\n",
    "H = model.fit(\n",
    "    aug.flow(trainX, trainY, batch_size=BS),\n",
    "    steps_per_epoch=len(trainX) // BS,\n",
    "    validation_data=(testX, testY),\n",
    "    validation_steps=len(testX) // BS,\n",
    "    epochs=EPOCHS)\n",
    "\n"
   ]
  },
  {
   "cell_type": "code",
   "execution_count": 10,
   "id": "79e38c44-589c-493b-86c2-439c552d7cfb",
   "metadata": {
    "scrolled": true
   },
   "outputs": [
    {
     "name": "stdout",
     "output_type": "stream",
     "text": [
      "11/11 [==============================] - 5s 431ms/step\n",
      "              precision    recall  f1-score   support\n",
      "\n",
      "   non_tiger       0.00      0.00      0.00         2\n",
      "       tiger       0.99      1.00      1.00       330\n",
      "\n",
      "    accuracy                           0.99       332\n",
      "   macro avg       0.50      0.50      0.50       332\n",
      "weighted avg       0.99      0.99      0.99       332\n",
      "\n"
     ]
    },
    {
     "name": "stderr",
     "output_type": "stream",
     "text": [
      "C:\\anaconda\\envs\\myenv\\lib\\site-packages\\sklearn\\metrics\\_classification.py:1531: UndefinedMetricWarning: Precision is ill-defined and being set to 0.0 in labels with no predicted samples. Use `zero_division` parameter to control this behavior.\n",
      "  _warn_prf(average, modifier, f\"{metric.capitalize()} is\", len(result))\n",
      "C:\\anaconda\\envs\\myenv\\lib\\site-packages\\sklearn\\metrics\\_classification.py:1531: UndefinedMetricWarning: Precision is ill-defined and being set to 0.0 in labels with no predicted samples. Use `zero_division` parameter to control this behavior.\n",
      "  _warn_prf(average, modifier, f\"{metric.capitalize()} is\", len(result))\n",
      "C:\\anaconda\\envs\\myenv\\lib\\site-packages\\sklearn\\metrics\\_classification.py:1531: UndefinedMetricWarning: Precision is ill-defined and being set to 0.0 in labels with no predicted samples. Use `zero_division` parameter to control this behavior.\n",
      "  _warn_prf(average, modifier, f\"{metric.capitalize()} is\", len(result))\n"
     ]
    }
   ],
   "source": [
    "# Evaluate the model on the test set\n",
    "predIdxs = model.predict(testX, batch_size=BS)\n",
    "\n",
    "# For each image in the test set, find the index of the label with the largest predicted probability\n",
    "predIdxs = np.argmax(predIdxs, axis=1)\n",
    "\n",
    "# Print a classification report\n",
    "print(classification_report(testY.argmax(axis=1), predIdxs, target_names=lb.classes_))\n"
   ]
  },
  {
   "cell_type": "code",
   "execution_count": 12,
   "id": "6f4fc4e9-f0d8-4f29-860d-7c259bf7c822",
   "metadata": {},
   "outputs": [
    {
     "name": "stdout",
     "output_type": "stream",
     "text": [
      "Model saved as tiger_detection_model.h5\n"
     ]
    }
   ],
   "source": [
    "\n",
    "# Save the model\n",
    "model.save(\"tiger_detection_model.h5\")\n",
    "print(\"Model saved as tiger_detection_model.h5\")"
   ]
  },
  {
   "cell_type": "code",
   "execution_count": 11,
   "id": "48689f50-b557-4e2c-b2c6-867ddad2c862",
   "metadata": {},
   "outputs": [
    {
     "data": {
      "image/png": "[encoded data removed]",
      "text/plain": [
       "<Figure size 640x480 with 1 Axes>"
      ]
     },
     "metadata": {},
     "output_type": "display_data"
    }
   ],
   "source": [
    "\n",
    "# Plot the training loss and accuracy\n",
    "plt.style.use(\"ggplot\")\n",
    "plt.figure()\n",
    "plt.plot(np.arange(0, EPOCHS), H.history[\"loss\"], label=\"train_loss\")\n",
    "plt.plot(np.arange(0, EPOCHS), H.history[\"val_loss\"], label=\"val_loss\")\n",
    "plt.plot(np.arange(0, EPOCHS), H.history[\"accuracy\"], label=\"train_acc\")\n",
    "plt.plot(np.arange(0, EPOCHS), H.history[\"val_accuracy\"], label=\"val_acc\")\n",
    "plt.title(\"Training Loss and Accuracy on Tiger/Non-Tiger\")\n",
    "plt.xlabel(\"Epoch #\")\n",
    "plt.ylabel(\"Loss/Accuracy\")\n",
    "plt.legend(loc=\"lower left\")\n",
    "plt.savefig(\"plot.png\")\n"
   ]
  },
  {
   "cell_type": "code",
   "execution_count": null,
   "id": "040c6d8f-7082-4be8-9798-1af2a75fdd44",
   "metadata": {},
   "outputs": [],
   "source": []
  }
 ],
 "metadata": {
  "kernelspec": {
   "display_name": "Python 3 (ipykernel)",
   "language": "python",
   "name": "python3"
  },
  "language_info": {
   "codemirror_mode": {
    "name": "ipython",
    "version": 3
   },
   "file_extension": ".py",
   "mimetype": "text/x-python",
   "name": "python",
   "nbconvert_exporter": "python",
   "pygments_lexer": "ipython3",
   "version": "3.10.14"
  }
 },
 "nbformat": 4,
 "nbformat_minor": 5
}
